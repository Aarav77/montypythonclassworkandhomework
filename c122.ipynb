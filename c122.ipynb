{
  "nbformat": 4,
  "nbformat_minor": 0,
  "metadata": {
    "colab": {
      "name": "c122.ipynb",
      "provenance": [],
      "authorship_tag": "ABX9TyOKJhSSxSdnhK9CwAGZzCag",
      "include_colab_link": true
    },
    "kernelspec": {
      "name": "python3",
      "display_name": "Python 3"
    },
    "language_info": {
      "name": "python"
    }
  },
  "cells": [
    {
      "cell_type": "markdown",
      "metadata": {
        "id": "view-in-github",
        "colab_type": "text"
      },
      "source": [
        "<a href=\"https://colab.research.google.com/github/Aarav77/montypythonclassworkandhomework/blob/main/c122.ipynb\" target=\"_parent\"><img src=\"https://colab.research.google.com/assets/colab-badge.svg\" alt=\"Open In Colab\"/></a>"
      ]
    },
    {
      "cell_type": "code",
      "metadata": {
        "id": "PK5DFU1jUMJc"
      },
      "source": [
        "import cv2\n",
        "import numpy as np\n",
        "import pandas as pd\n",
        "import seaborn as sns\n",
        "import matplotlib.pyplot as plt\n",
        "from sklearn.datasets import fetch_openml\n",
        "from sklearn.model_selection import train_test_split\n",
        "from sklearn.linear_model import LogisticRegression\n",
        "from sklearn.metrics import accuracy_score"
      ],
      "execution_count": 2,
      "outputs": []
    },
    {
      "cell_type": "code",
      "metadata": {
        "colab": {
          "base_uri": "https://localhost:8080/",
          "height": 410
        },
        "id": "PcMls0iVVAFd",
        "outputId": "47dd205e-f2f4-4b2d-b444-341ab16540a8"
      },
      "source": [
        "x, y=fetch_openml('mnist_784', version=1, return_X_y=True)\n",
        "classes=['0', '1', '2', '3', '4', '5', '6', '7', '8', '9']\n",
        "endclasses=len(classes)\n",
        "sampleclass=5\n",
        "figure=plt.figure(figsize=(endclasses*2, (1+sampleclass)))\n",
        "idx=0\n",
        "for see in classes :\n",
        "  idxs=np.flatnonzero(y==see)\n",
        "  idxs=np.random.choice(idxs, sampleclass, replace=False)\n",
        "  i=0\n",
        "  for j in idxs:\n",
        "    plt_idx=i*endclasses+idx+1\n",
        "    p=plt.subplot(sampleclass, endclasses, plt_idx)\n",
        "    p=sns.heatmap(np.reshape(x[j], (28, 28)), cmap=plt.cm.gray, xticklabels=False, yticklabels=False, cbar=False)\n",
        "    p=plt.axis('off')\n",
        "    i+=1\n",
        "  j+=1"
      ],
      "execution_count": 4,
      "outputs": [
        {
          "output_type": "stream",
          "text": [
            "/usr/local/lib/python3.7/dist-packages/ipykernel_launcher.py:13: MatplotlibDeprecationWarning: Adding an axes using the same arguments as a previous axes currently reuses the earlier instance.  In a future version, a new instance will always be created and returned.  Meanwhile, this warning can be suppressed, and the future behavior ensured, by passing a unique label to each axes instance.\n",
            "  del sys.path[0]\n"
          ],
          "name": "stderr"
        },
        {
          "output_type": "display_data",
          "data": {
            "image/png": "[encoded data removed]",
            "text/plain": [
              "<Figure size 1440x432 with 5 Axes>"
            ]
          },
          "metadata": {
            "tags": []
          }
        }
      ]
    },
    {
      "cell_type": "code",
      "metadata": {
        "colab": {
          "base_uri": "https://localhost:8080/"
        },
        "id": "VjkNXBVdZbbV",
        "outputId": "38e4da48-5537-4c85-a76e-2b6a17e4e45c"
      },
      "source": [
        "xtrain, xtest, ytrain, ytest=train_test_split(x, y, random_state=0, train_size=7500, test_size=2500)\n",
        "xtrainscaled=xtrain/255\n",
        "xtestscaled=xtest/255\n",
        "clf = LogisticRegression(solver='saga', multi_class='multinomial').fit(xtrainscaled, ytrain)\n",
        "ypred=clf.predict(xtestscaled)\n",
        "print(\"accracy\", accuracy_score(ytest, ypred))"
      ],
      "execution_count": 6,
      "outputs": [
        {
          "output_type": "stream",
          "text": [
            "accracy 0.9144\n"
          ],
          "name": "stdout"
        },
        {
          "output_type": "stream",
          "text": [
            "/usr/local/lib/python3.7/dist-packages/sklearn/linear_model/_sag.py:330: ConvergenceWarning: The max_iter was reached which means the coef_ did not converge\n",
            "  \"the coef_ did not converge\", ConvergenceWarning)\n"
          ],
          "name": "stderr"
        }
      ]
    }
  ]
}